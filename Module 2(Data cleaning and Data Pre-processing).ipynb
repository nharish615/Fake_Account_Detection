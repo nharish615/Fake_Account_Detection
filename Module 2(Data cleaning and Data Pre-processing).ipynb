{
 "cells": [
  {
   "attachments": {},
   "cell_type": "markdown",
   "metadata": {},
   "source": [
    "# -----------------Module 2(Data cleaning and Data Pre-processing)-------------------\n",
    "\n",
    "# lodading legitimate User Data "
   ]
  },
  {
   "cell_type": "code",
   "execution_count": 1,
   "metadata": {},
   "outputs": [
    {
     "data": {
      "text/plain": [
       "(11118, 21)"
      ]
     },
     "execution_count": 1,
     "metadata": {},
     "output_type": "execute_result"
    }
   ],
   "source": [
    "import pandas as pd\n",
    "Total_leg_data = pd.read_csv('Leg_data.csv')\n",
    "Total_leg_data.fillna(0, inplace=True)\n",
    "Total_leg_data.shape"
   ]
  },
  {
   "cell_type": "markdown",
   "metadata": {},
   "source": [
    "# drow bar plot to see tweet come from the which locations"
   ]
  },
  {
   "cell_type": "code",
   "execution_count": 2,
   "metadata": {},
   "outputs": [
    {
     "data": {
      "text/plain": [
       "<matplotlib.axes._subplots.AxesSubplot at 0x206a81bba00>"
      ]
     },
     "execution_count": 2,
     "metadata": {},
     "output_type": "execute_result"
    },
    {
     "data": {
      "image/png": "[encoded data removed]",
      "text/plain": [
       "<Figure size 1008x504 with 1 Axes>"
      ]
     },
     "metadata": {
      "needs_background": "light"
     },
     "output_type": "display_data"
    }
   ],
   "source": [
    "location_data = Total_leg_data['UserLocation'].value_counts()\n",
    "location_data[2:15].plot(kind='bar', figsize=(14,7))"
   ]
  },
  {
   "cell_type": "markdown",
   "metadata": {},
   "source": [
    "# draw for a word how many times it used in tweets\n",
    "# Hypothesis is Legitimate users user very less compare to spammer"
   ]
  },
  {
   "cell_type": "code",
   "execution_count": 4,
   "metadata": {},
   "outputs": [
    {
     "data": {
      "text/plain": [
       "<matplotlib.axes._subplots.AxesSubplot at 0x206a8e3e0d0>"
      ]
     },
     "execution_count": 4,
     "metadata": {},
     "output_type": "execute_result"
    },
    {
     "data": {
      "image/png": "[encoded data removed]",
      "text/plain": [
       "<Figure size 1296x288 with 1 Axes>"
      ]
     },
     "metadata": {
      "needs_background": "light"
     },
     "output_type": "display_data"
    }
   ],
   "source": [
    "import matplotlib.pyplot as plt\n",
    "plt.rcParams['figure.figsize'] = (18,4)\n",
    "plt.rcParams['font.family'] = 'sans-serif'\n",
    "text = Total_leg_data['TextData']\n",
    "is_sex = text.str.contains('sex')\n",
    "is_sex=is_sex.astype(float)\n",
    "is_sex.plot()"
   ]
  },
  {
   "cell_type": "markdown",
   "metadata": {},
   "source": [
    "# Save Followers count"
   ]
  },
  {
   "cell_type": "code",
   "execution_count": 7,
   "metadata": {},
   "outputs": [],
   "source": [
    "temp1 = Total_leg_data[[\"UserFollowersCount\"]]\n",
    "temp1.to_csv('C:/Users/asha/Desktop/Final Year Project Phase 2/Phase 2/Step2/userfollowerscount.csv', sep=',',encoding='utf8')"
   ]
  },
  {
   "cell_type": "markdown",
   "metadata": {},
   "source": [
    "# Retweet ratio also will be higher compare to spammer user"
   ]
  },
  {
   "cell_type": "code",
   "execution_count": 8,
   "metadata": {},
   "outputs": [
    {
     "name": "stdout",
     "output_type": "stream",
     "text": [
      "<class 'pandas.core.frame.DataFrame'>\n",
      "RangeIndex: 11118 entries, 0 to 11117\n",
      "Data columns (total 21 columns):\n",
      " #   Column                 Non-Null Count  Dtype  \n",
      "---  ------                 --------------  -----  \n",
      " 0   Unnamed: 0             11118 non-null  int64  \n",
      " 1   Unnamed: 0.1           11118 non-null  int64  \n",
      " 2   TwittID                11118 non-null  int64  \n",
      " 3   TextData               11118 non-null  object \n",
      " 4   TweetCreatedAt         11118 non-null  object \n",
      " 5   RetweetCount           11118 non-null  float64\n",
      " 6   TweetFavouriteCount    11118 non-null  int64  \n",
      " 7   TweetSource            11118 non-null  object \n",
      " 8   UserID                 11118 non-null  int64  \n",
      " 9   UserScreenName         11118 non-null  object \n",
      " 10  UserName               11118 non-null  object \n",
      " 11  UserCreatedAt          11118 non-null  object \n",
      " 12  UserDescription        11118 non-null  object \n",
      " 13  UserDescriptionLength  11118 non-null  int64  \n",
      " 14  UserFollowersCount     11118 non-null  int64  \n",
      " 15  UserFriendsCount       11118 non-null  int64  \n",
      " 16  UserLocation           11118 non-null  object \n",
      " 17  HttpCount              11118 non-null  int64  \n",
      " 18  HashtagCount           11118 non-null  int64  \n",
      " 19  MentionCount           11118 non-null  int64  \n",
      " 20  TweetCount             11118 non-null  int64  \n",
      "dtypes: float64(1), int64(12), object(8)\n",
      "memory usage: 1.8+ MB\n"
     ]
    }
   ],
   "source": [
    "Total_leg_data[['RetweetCount']] = Total_leg_data[['RetweetCount']].astype(float)\n",
    "Total_leg_data.info()"
   ]
  },
  {
   "cell_type": "markdown",
   "metadata": {},
   "source": [
    "# to see how many people have zero tweet"
   ]
  },
  {
   "cell_type": "code",
   "execution_count": 9,
   "metadata": {},
   "outputs": [
    {
     "data": {
      "text/plain": [
       "378"
      ]
     },
     "execution_count": 9,
     "metadata": {},
     "output_type": "execute_result"
    }
   ],
   "source": [
    "Total_leg_data = Total_leg_data[Total_leg_data.TweetCount!=0]\n",
    "len(Total_leg_data[Total_leg_data.TweetCount<30])"
   ]
  },
  {
   "cell_type": "markdown",
   "metadata": {},
   "source": [
    "# adding New feature"
   ]
  },
  {
   "cell_type": "code",
   "execution_count": 10,
   "metadata": {},
   "outputs": [],
   "source": [
    "Total_leg_data.loc[:,\"AvgHashtag\"] = (Total_leg_data.groupby('UserID')[\"HashtagCount\"].transform('sum'))/30\n",
    "Total_leg_data.loc[:,\"AvgURLCount\"] = (Total_leg_data.groupby('UserID')[\"HttpCount\"].transform('sum'))/30\n",
    "Total_leg_data.loc[:,\"AvgMention\"] = (Total_leg_data.groupby('UserID')[\"MentionCount\"].transform('sum'))/30\n",
    "Total_leg_data.loc[:,\"AvgRetweet\"] = (Total_leg_data.groupby('UserID')[\"RetweetCount\"].transform('sum'))/30\n",
    "Total_leg_data.loc[:,\"AvgFavCount\"] = (Total_leg_data.groupby('UserID')[\"TweetFavouriteCount\"].transform('sum'))/30"
   ]
  },
  {
   "cell_type": "markdown",
   "metadata": {},
   "source": [
    "# Selecting Repeted columns only and droping the repeted rows\n"
   ]
  },
  {
   "cell_type": "code",
   "execution_count": 13,
   "metadata": {},
   "outputs": [
    {
     "name": "stdout",
     "output_type": "stream",
     "text": [
      "<class 'pandas.core.frame.DataFrame'>\n",
      "Int64Index: 375 entries, 0 to 11088\n",
      "Data columns (total 13 columns):\n",
      " #   Column                 Non-Null Count  Dtype  \n",
      "---  ------                 --------------  -----  \n",
      " 0   UserID                 375 non-null    int64  \n",
      " 1   UserScreenName         375 non-null    object \n",
      " 2   UserCreatedAt          375 non-null    object \n",
      " 3   UserDescriptionLength  375 non-null    int64  \n",
      " 4   UserFollowersCount     375 non-null    int64  \n",
      " 5   UserFriendsCount       375 non-null    int64  \n",
      " 6   UserLocation           375 non-null    object \n",
      " 7   AvgHashtag             375 non-null    float64\n",
      " 8   AvgURLCount            375 non-null    float64\n",
      " 9   AvgMention             375 non-null    float64\n",
      " 10  AvgRetweet             375 non-null    float64\n",
      " 11  AvgFavCount            375 non-null    float64\n",
      " 12  TweetCount             375 non-null    int64  \n",
      "dtypes: float64(5), int64(5), object(3)\n",
      "memory usage: 41.0+ KB\n"
     ]
    }
   ],
   "source": [
    "unique_leg_row = Total_leg_data[[\"UserID\", \"UserScreenName\", \"UserCreatedAt\", \"UserDescriptionLength\",\"UserFollowersCount\", \"UserFriendsCount\", \"UserLocation\", \"AvgHashtag\", \"AvgURLCount\", \"AvgMention\", \"AvgRetweet\", \"AvgFavCount\", \"TweetCount\"]]\n",
    "leg_data = unique_leg_row.drop_duplicates()\n",
    "leg_data.info()"
   ]
  },
  {
   "cell_type": "markdown",
   "metadata": {},
   "source": [
    "#  Saving the reduced legitimate data"
   ]
  },
  {
   "cell_type": "code",
   "execution_count": 16,
   "metadata": {},
   "outputs": [],
   "source": [
    "fre = leg_data[\"UserFriendsCount\"]\n",
    "fre.to_csv(\"C:/Users/asha/Desktop/Final Year Project Phase 2/Phase 2/Step2/userfriendscount.csv\", sep=',',encoding='utf8')"
   ]
  },
  {
   "cell_type": "markdown",
   "metadata": {},
   "source": [
    "# Datatype conversion from object to float\n"
   ]
  },
  {
   "cell_type": "code",
   "execution_count": 17,
   "metadata": {},
   "outputs": [
    {
     "name": "stdout",
     "output_type": "stream",
     "text": [
      "<class 'pandas.core.frame.DataFrame'>\n",
      "Int64Index: 375 entries, 0 to 11088\n",
      "Data columns (total 13 columns):\n",
      " #   Column                 Non-Null Count  Dtype  \n",
      "---  ------                 --------------  -----  \n",
      " 0   UserID                 375 non-null    int64  \n",
      " 1   UserScreenName         375 non-null    object \n",
      " 2   UserCreatedAt          375 non-null    object \n",
      " 3   UserDescriptionLength  375 non-null    int64  \n",
      " 4   UserFollowersCount     375 non-null    int64  \n",
      " 5   UserFriendsCount       375 non-null    float64\n",
      " 6   UserLocation           375 non-null    object \n",
      " 7   AvgHashtag             375 non-null    float64\n",
      " 8   AvgURLCount            375 non-null    float64\n",
      " 9   AvgMention             375 non-null    float64\n",
      " 10  AvgRetweet             375 non-null    float64\n",
      " 11  AvgFavCount            375 non-null    float64\n",
      " 12  TweetCount             375 non-null    int64  \n",
      "dtypes: float64(6), int64(4), object(3)\n",
      "memory usage: 41.0+ KB\n"
     ]
    }
   ],
   "source": [
    "leg_data[['UserFriendsCount']] = leg_data[['UserFriendsCount']].astype(float)\n",
    "leg_data.info()"
   ]
  },
  {
   "cell_type": "markdown",
   "metadata": {},
   "source": [
    "# Add a Column to Legitimate Data that this is not Spam =0"
   ]
  },
  {
   "cell_type": "code",
   "execution_count": 25,
   "metadata": {},
   "outputs": [
    {
     "name": "stderr",
     "output_type": "stream",
     "text": [
      "C:\\Users\\asha\\anaconda3\\lib\\site-packages\\pandas\\core\\indexing.py:966: SettingWithCopyWarning: \n",
      "A value is trying to be set on a copy of a slice from a DataFrame.\n",
      "Try using .loc[row_indexer,col_indexer] = value instead\n",
      "\n",
      "See the caveats in the documentation: https://pandas.pydata.org/pandas-docs/stable/user_guide/indexing.html#returning-a-view-versus-a-copy\n",
      "  self.obj[item] = s\n"
     ]
    },
    {
     "data": {
      "text/html": [
       "<div>\n",
       "<style scoped>\n",
       "    .dataframe tbody tr th:only-of-type {\n",
       "        vertical-align: middle;\n",
       "    }\n",
       "\n",
       "    .dataframe tbody tr th {\n",
       "        vertical-align: top;\n",
       "    }\n",
       "\n",
       "    .dataframe thead th {\n",
       "        text-align: right;\n",
       "    }\n",
       "</style>\n",
       "<table border=\"1\" class=\"dataframe\">\n",
       "  <thead>\n",
       "    <tr style=\"text-align: right;\">\n",
       "      <th></th>\n",
       "      <th>UserID</th>\n",
       "      <th>UserScreenName</th>\n",
       "      <th>UserCreatedAt</th>\n",
       "      <th>UserDescriptionLength</th>\n",
       "      <th>UserFollowersCount</th>\n",
       "      <th>UserFriendsCount</th>\n",
       "      <th>UserLocation</th>\n",
       "      <th>AvgHashtag</th>\n",
       "      <th>AvgURLCount</th>\n",
       "      <th>AvgMention</th>\n",
       "      <th>AvgRetweet</th>\n",
       "      <th>AvgFavCount</th>\n",
       "      <th>TweetCount</th>\n",
       "      <th>SpammerOrNot</th>\n",
       "    </tr>\n",
       "  </thead>\n",
       "  <tbody>\n",
       "    <tr>\n",
       "      <th>10968</th>\n",
       "      <td>767677235805511680</td>\n",
       "      <td>mediaamantra</td>\n",
       "      <td>2016-08-22 10:58:10</td>\n",
       "      <td>128</td>\n",
       "      <td>1566</td>\n",
       "      <td>958.0</td>\n",
       "      <td>Lucknow, India</td>\n",
       "      <td>0.400000</td>\n",
       "      <td>1.0</td>\n",
       "      <td>0.600000</td>\n",
       "      <td>3.400000</td>\n",
       "      <td>4.533333</td>\n",
       "      <td>14896</td>\n",
       "      <td>0</td>\n",
       "    </tr>\n",
       "    <tr>\n",
       "      <th>10998</th>\n",
       "      <td>67378160</td>\n",
       "      <td>DainikBhaskar</td>\n",
       "      <td>2009-08-20 18:04:36</td>\n",
       "      <td>76</td>\n",
       "      <td>634524</td>\n",
       "      <td>46.0</td>\n",
       "      <td>India</td>\n",
       "      <td>8.933333</td>\n",
       "      <td>4.0</td>\n",
       "      <td>1.333333</td>\n",
       "      <td>12.533333</td>\n",
       "      <td>87.900000</td>\n",
       "      <td>119712</td>\n",
       "      <td>0</td>\n",
       "    </tr>\n",
       "    <tr>\n",
       "      <th>11028</th>\n",
       "      <td>461841349</td>\n",
       "      <td>ZeeNewsHindi</td>\n",
       "      <td>2012-01-12 07:52:31</td>\n",
       "      <td>110</td>\n",
       "      <td>1868923</td>\n",
       "      <td>22.0</td>\n",
       "      <td>India</td>\n",
       "      <td>2.033333</td>\n",
       "      <td>2.9</td>\n",
       "      <td>1.500000</td>\n",
       "      <td>244.966667</td>\n",
       "      <td>992.166667</td>\n",
       "      <td>181029</td>\n",
       "      <td>0</td>\n",
       "    </tr>\n",
       "    <tr>\n",
       "      <th>11058</th>\n",
       "      <td>98362607</td>\n",
       "      <td>News18India</td>\n",
       "      <td>2009-12-21 12:11:21</td>\n",
       "      <td>47</td>\n",
       "      <td>1035839</td>\n",
       "      <td>89.0</td>\n",
       "      <td>India</td>\n",
       "      <td>2.033333</td>\n",
       "      <td>2.0</td>\n",
       "      <td>1.566667</td>\n",
       "      <td>20.733333</td>\n",
       "      <td>100.533333</td>\n",
       "      <td>285844</td>\n",
       "      <td>0</td>\n",
       "    </tr>\n",
       "    <tr>\n",
       "      <th>11088</th>\n",
       "      <td>3266889528</td>\n",
       "      <td>allahabdtraffic</td>\n",
       "      <td>2015-07-03 09:06:39</td>\n",
       "      <td>138</td>\n",
       "      <td>7608</td>\n",
       "      <td>146.0</td>\n",
       "      <td>Allahabad, India</td>\n",
       "      <td>0.733333</td>\n",
       "      <td>0.7</td>\n",
       "      <td>1.966667</td>\n",
       "      <td>35.100000</td>\n",
       "      <td>2.633333</td>\n",
       "      <td>4937</td>\n",
       "      <td>0</td>\n",
       "    </tr>\n",
       "  </tbody>\n",
       "</table>\n",
       "</div>"
      ],
      "text/plain": [
       "                   UserID   UserScreenName        UserCreatedAt  \\\n",
       "10968  767677235805511680     mediaamantra  2016-08-22 10:58:10   \n",
       "10998            67378160    DainikBhaskar  2009-08-20 18:04:36   \n",
       "11028           461841349     ZeeNewsHindi  2012-01-12 07:52:31   \n",
       "11058            98362607      News18India  2009-12-21 12:11:21   \n",
       "11088          3266889528  allahabdtraffic  2015-07-03 09:06:39   \n",
       "\n",
       "       UserDescriptionLength  UserFollowersCount  UserFriendsCount  \\\n",
       "10968                    128                1566             958.0   \n",
       "10998                     76              634524              46.0   \n",
       "11028                    110             1868923              22.0   \n",
       "11058                     47             1035839              89.0   \n",
       "11088                    138                7608             146.0   \n",
       "\n",
       "           UserLocation  AvgHashtag  AvgURLCount  AvgMention  AvgRetweet  \\\n",
       "10968    Lucknow, India    0.400000          1.0    0.600000    3.400000   \n",
       "10998             India    8.933333          4.0    1.333333   12.533333   \n",
       "11028             India    2.033333          2.9    1.500000  244.966667   \n",
       "11058             India    2.033333          2.0    1.566667   20.733333   \n",
       "11088  Allahabad, India    0.733333          0.7    1.966667   35.100000   \n",
       "\n",
       "       AvgFavCount  TweetCount  SpammerOrNot  \n",
       "10968     4.533333       14896             0  \n",
       "10998    87.900000      119712             0  \n",
       "11028   992.166667      181029             0  \n",
       "11058   100.533333      285844             0  \n",
       "11088     2.633333        4937             0  "
      ]
     },
     "execution_count": 25,
     "metadata": {},
     "output_type": "execute_result"
    }
   ],
   "source": [
    "leg_data.loc[:, \"SpammerOrNot\"]=0\n",
    "leg_data.tail()"
   ]
  },
  {
   "cell_type": "code",
   "execution_count": 26,
   "metadata": {},
   "outputs": [
    {
     "data": {
      "text/plain": [
       "count       375.000000\n",
       "mean      41288.162667\n",
       "std       93281.144477\n",
       "min           1.000000\n",
       "25%         324.000000\n",
       "50%        3883.000000\n",
       "75%       20650.000000\n",
       "max      596778.000000\n",
       "Name: TweetCount, dtype: float64"
      ]
     },
     "execution_count": 26,
     "metadata": {},
     "output_type": "execute_result"
    }
   ],
   "source": [
    "leg_data[\"TweetCount\"].describe()"
   ]
  },
  {
   "cell_type": "markdown",
   "metadata": {},
   "source": [
    "# Now Loading Spammer Data"
   ]
  },
  {
   "cell_type": "code",
   "execution_count": 27,
   "metadata": {},
   "outputs": [
    {
     "data": {
      "text/plain": [
       "(5394, 21)"
      ]
     },
     "execution_count": 27,
     "metadata": {},
     "output_type": "execute_result"
    }
   ],
   "source": [
    "Total_spam_data = pd.read_csv(\"Spam_data.csv\")\n",
    "Total_spam_data.fillna(0, inplace=True)\n",
    "Total_spam_data.shape"
   ]
  },
  {
   "cell_type": "markdown",
   "metadata": {},
   "source": [
    "# drow bar plot to see tweet come from the which locations"
   ]
  },
  {
   "cell_type": "code",
   "execution_count": 22,
   "metadata": {},
   "outputs": [
    {
     "data": {
      "text/plain": [
       "<matplotlib.axes._subplots.AxesSubplot at 0x206aa319280>"
      ]
     },
     "execution_count": 22,
     "metadata": {},
     "output_type": "execute_result"
    },
    {
     "data": {
      "image/png": "[encoded data removed]",
      "text/plain": [
       "<Figure size 1008x504 with 1 Axes>"
      ]
     },
     "metadata": {
      "needs_background": "light"
     },
     "output_type": "display_data"
    }
   ],
   "source": [
    "%matplotlib inline\n",
    "location_data = Total_spam_data['UserLocation'].value_counts()\n",
    "location_data[2:15].plot(kind='bar', figsize=(14,7))"
   ]
  },
  {
   "cell_type": "markdown",
   "metadata": {},
   "source": [
    "# By Analyize Tweet I find that there is a lot of volgor word used by spam user compare to legitimate users"
   ]
  },
  {
   "cell_type": "code",
   "execution_count": 28,
   "metadata": {},
   "outputs": [
    {
     "data": {
      "text/plain": [
       "<matplotlib.axes._subplots.AxesSubplot at 0x206aa38cee0>"
      ]
     },
     "execution_count": 28,
     "metadata": {},
     "output_type": "execute_result"
    },
    {
     "data": {
      "image/png": "[encoded data removed]",
      "text/plain": [
       "<Figure size 1296x288 with 1 Axes>"
      ]
     },
     "metadata": {
      "needs_background": "light"
     },
     "output_type": "display_data"
    }
   ],
   "source": [
    "import matplotlib.pyplot as plt\n",
    "import string as str\n",
    "%matplotlib inline\n",
    "plt.rcParams['figure.figsize'] = (18,4)\n",
    "plt.rcParams['font.family'] = 'sans-serif'\n",
    "text = Total_spam_data['TextData']\n",
    "is_sex = text.str.contains('sex')\n",
    "is_sex=is_sex.astype(float)\n",
    "is_sex.plot()"
   ]
  },
  {
   "cell_type": "code",
   "execution_count": 29,
   "metadata": {},
   "outputs": [
    {
     "data": {
      "text/plain": [
       "(5394, 21)"
      ]
     },
     "execution_count": 29,
     "metadata": {},
     "output_type": "execute_result"
    }
   ],
   "source": [
    "Total_spam_data=Total_spam_data.fillna(0)\n",
    "Total_spam_data.shape"
   ]
  },
  {
   "cell_type": "code",
   "execution_count": 30,
   "metadata": {},
   "outputs": [],
   "source": [
    "temp2 = Total_spam_data[[\"UserFollowersCount\"]]\n",
    "temp2.to_csv('C:/Users/asha/Desktop/Final Year Project Phase 2/Phase 2/Step2/userfollowerscount1.csv', sep=',',encoding='utf8')"
   ]
  },
  {
   "cell_type": "markdown",
   "metadata": {},
   "source": [
    "# convert retweetcount object to float"
   ]
  },
  {
   "cell_type": "code",
   "execution_count": 31,
   "metadata": {},
   "outputs": [
    {
     "name": "stdout",
     "output_type": "stream",
     "text": [
      "<class 'pandas.core.frame.DataFrame'>\n",
      "RangeIndex: 5394 entries, 0 to 5393\n",
      "Data columns (total 21 columns):\n",
      " #   Column                 Non-Null Count  Dtype  \n",
      "---  ------                 --------------  -----  \n",
      " 0   Unnamed: 0             5394 non-null   int64  \n",
      " 1   Unnamed: 0.1           5394 non-null   int64  \n",
      " 2   TwittID                5394 non-null   int64  \n",
      " 3   TextData               5394 non-null   object \n",
      " 4   TweetCreatedAt         5394 non-null   object \n",
      " 5   RetweetCount           5394 non-null   float64\n",
      " 6   TweetFavouriteCount    5394 non-null   int64  \n",
      " 7   TweetSource            5394 non-null   object \n",
      " 8   UserID                 5394 non-null   int64  \n",
      " 9   UserScreenName         5394 non-null   object \n",
      " 10  UserName               5394 non-null   object \n",
      " 11  UserCreatedAt          5394 non-null   object \n",
      " 12  UserDescription        5394 non-null   object \n",
      " 13  UserDescriptionLength  5394 non-null   int64  \n",
      " 14  UserFollowersCount     5394 non-null   int64  \n",
      " 15  UserFriendsCount       5394 non-null   int64  \n",
      " 16  UserLocation           5394 non-null   object \n",
      " 17  HttpCount              5394 non-null   int64  \n",
      " 18  HashtagCount           5394 non-null   int64  \n",
      " 19  MentionCount           5394 non-null   int64  \n",
      " 20  TweetCount             5394 non-null   int64  \n",
      "dtypes: float64(1), int64(12), object(8)\n",
      "memory usage: 885.1+ KB\n"
     ]
    }
   ],
   "source": [
    "Total_spam_data[['RetweetCount']] = Total_spam_data[['RetweetCount']].astype(float)\n",
    "Total_spam_data.info()"
   ]
  },
  {
   "cell_type": "markdown",
   "metadata": {},
   "source": [
    "# to see how many people have zero tweet"
   ]
  },
  {
   "cell_type": "code",
   "execution_count": 32,
   "metadata": {},
   "outputs": [
    {
     "data": {
      "text/plain": [
       "54"
      ]
     },
     "execution_count": 32,
     "metadata": {},
     "output_type": "execute_result"
    }
   ],
   "source": [
    "Total_spam_data = Total_spam_data[Total_spam_data.TweetCount!=0]\n",
    "len(Total_spam_data[Total_spam_data.TweetCount<30])"
   ]
  },
  {
   "cell_type": "markdown",
   "metadata": {},
   "source": [
    "# Adding new Extra feature "
   ]
  },
  {
   "cell_type": "code",
   "execution_count": 33,
   "metadata": {},
   "outputs": [],
   "source": [
    "Total_spam_data.loc[:,'AvgHashtag'] = (Total_spam_data.groupby('UserID')[\"HashtagCount\"].transform('sum'))/30\n",
    "Total_spam_data.loc[:,'AvgURLCount'] = (Total_spam_data.groupby('UserID')[\"HttpCount\"].transform('sum'))/30\n",
    "Total_spam_data.loc[:,'AvgMention'] = (Total_spam_data.groupby('UserID')[\"MentionCount\"].transform('sum'))/30\n",
    "Total_spam_data.loc[:,'AvgRetweet'] = (Total_spam_data.groupby('UserID')[\"RetweetCount\"].transform('sum'))/30\n",
    "Total_spam_data.loc[:,'AvgFavCount'] = (Total_spam_data.groupby('UserID')[\"TweetFavouriteCount\"].transform('sum'))/30"
   ]
  },
  {
   "cell_type": "code",
   "execution_count": 34,
   "metadata": {},
   "outputs": [
    {
     "data": {
      "text/html": [
       "<div>\n",
       "<style scoped>\n",
       "    .dataframe tbody tr th:only-of-type {\n",
       "        vertical-align: middle;\n",
       "    }\n",
       "\n",
       "    .dataframe tbody tr th {\n",
       "        vertical-align: top;\n",
       "    }\n",
       "\n",
       "    .dataframe thead th {\n",
       "        text-align: right;\n",
       "    }\n",
       "</style>\n",
       "<table border=\"1\" class=\"dataframe\">\n",
       "  <thead>\n",
       "    <tr style=\"text-align: right;\">\n",
       "      <th></th>\n",
       "      <th>Unnamed: 0</th>\n",
       "      <th>Unnamed: 0.1</th>\n",
       "      <th>TwittID</th>\n",
       "      <th>TextData</th>\n",
       "      <th>TweetCreatedAt</th>\n",
       "      <th>RetweetCount</th>\n",
       "      <th>TweetFavouriteCount</th>\n",
       "      <th>TweetSource</th>\n",
       "      <th>UserID</th>\n",
       "      <th>UserScreenName</th>\n",
       "      <th>...</th>\n",
       "      <th>UserLocation</th>\n",
       "      <th>HttpCount</th>\n",
       "      <th>HashtagCount</th>\n",
       "      <th>MentionCount</th>\n",
       "      <th>TweetCount</th>\n",
       "      <th>AvgHashtag</th>\n",
       "      <th>AvgURLCount</th>\n",
       "      <th>AvgMention</th>\n",
       "      <th>AvgRetweet</th>\n",
       "      <th>AvgFavCount</th>\n",
       "    </tr>\n",
       "  </thead>\n",
       "  <tbody>\n",
       "    <tr>\n",
       "      <th>5390</th>\n",
       "      <td>5390</td>\n",
       "      <td>746</td>\n",
       "      <td>1120300621578551296</td>\n",
       "      <td>RT @s___fire: your sex life is going bad ? you...</td>\n",
       "      <td>2019-04-22 12:17:37</td>\n",
       "      <td>22.0</td>\n",
       "      <td>0</td>\n",
       "      <td>Twitter for Android</td>\n",
       "      <td>1055696622</td>\n",
       "      <td>Giovannini8</td>\n",
       "      <td>...</td>\n",
       "      <td>0</td>\n",
       "      <td>1</td>\n",
       "      <td>0</td>\n",
       "      <td>1</td>\n",
       "      <td>150737</td>\n",
       "      <td>0.833333</td>\n",
       "      <td>1.766667</td>\n",
       "      <td>3.6</td>\n",
       "      <td>138.733333</td>\n",
       "      <td>0.0</td>\n",
       "    </tr>\n",
       "    <tr>\n",
       "      <th>5391</th>\n",
       "      <td>5391</td>\n",
       "      <td>747</td>\n",
       "      <td>1120300607309524992</td>\n",
       "      <td>RT @s___fire: Find your fantasy here and make ...</td>\n",
       "      <td>2019-04-22 12:17:33</td>\n",
       "      <td>18.0</td>\n",
       "      <td>0</td>\n",
       "      <td>Twitter for Android</td>\n",
       "      <td>1055696622</td>\n",
       "      <td>Giovannini8</td>\n",
       "      <td>...</td>\n",
       "      <td>0</td>\n",
       "      <td>1</td>\n",
       "      <td>0</td>\n",
       "      <td>1</td>\n",
       "      <td>150737</td>\n",
       "      <td>0.833333</td>\n",
       "      <td>1.766667</td>\n",
       "      <td>3.6</td>\n",
       "      <td>138.733333</td>\n",
       "      <td>0.0</td>\n",
       "    </tr>\n",
       "    <tr>\n",
       "      <th>5392</th>\n",
       "      <td>5392</td>\n",
       "      <td>748</td>\n",
       "      <td>1120300592046444545</td>\n",
       "      <td>RT @sexole: ONLINE EN https://t.co/wkT9BMovtL ...</td>\n",
       "      <td>2019-04-22 12:17:29</td>\n",
       "      <td>1.0</td>\n",
       "      <td>0</td>\n",
       "      <td>Twitter for Android</td>\n",
       "      <td>1055696622</td>\n",
       "      <td>Giovannini8</td>\n",
       "      <td>...</td>\n",
       "      <td>0</td>\n",
       "      <td>2</td>\n",
       "      <td>2</td>\n",
       "      <td>1</td>\n",
       "      <td>150737</td>\n",
       "      <td>0.833333</td>\n",
       "      <td>1.766667</td>\n",
       "      <td>3.6</td>\n",
       "      <td>138.733333</td>\n",
       "      <td>0.0</td>\n",
       "    </tr>\n",
       "    <tr>\n",
       "      <th>5393</th>\n",
       "      <td>5393</td>\n",
       "      <td>749</td>\n",
       "      <td>1120300537314979840</td>\n",
       "      <td>RT @DomUrch: @irinagomez60\\n@HQPornHQ\\n@Erotik...</td>\n",
       "      <td>2019-04-22 12:17:16</td>\n",
       "      <td>121.0</td>\n",
       "      <td>0</td>\n",
       "      <td>Twitter for Android</td>\n",
       "      <td>1055696622</td>\n",
       "      <td>Giovannini8</td>\n",
       "      <td>...</td>\n",
       "      <td>0</td>\n",
       "      <td>0</td>\n",
       "      <td>0</td>\n",
       "      <td>11</td>\n",
       "      <td>150737</td>\n",
       "      <td>0.833333</td>\n",
       "      <td>1.766667</td>\n",
       "      <td>3.6</td>\n",
       "      <td>138.733333</td>\n",
       "      <td>0.0</td>\n",
       "    </tr>\n",
       "  </tbody>\n",
       "</table>\n",
       "<p>4 rows × 26 columns</p>\n",
       "</div>"
      ],
      "text/plain": [
       "      Unnamed: 0  Unnamed: 0.1              TwittID  \\\n",
       "5390        5390           746  1120300621578551296   \n",
       "5391        5391           747  1120300607309524992   \n",
       "5392        5392           748  1120300592046444545   \n",
       "5393        5393           749  1120300537314979840   \n",
       "\n",
       "                                               TextData       TweetCreatedAt  \\\n",
       "5390  RT @s___fire: your sex life is going bad ? you...  2019-04-22 12:17:37   \n",
       "5391  RT @s___fire: Find your fantasy here and make ...  2019-04-22 12:17:33   \n",
       "5392  RT @sexole: ONLINE EN https://t.co/wkT9BMovtL ...  2019-04-22 12:17:29   \n",
       "5393  RT @DomUrch: @irinagomez60\\n@HQPornHQ\\n@Erotik...  2019-04-22 12:17:16   \n",
       "\n",
       "      RetweetCount  TweetFavouriteCount          TweetSource      UserID  \\\n",
       "5390          22.0                    0  Twitter for Android  1055696622   \n",
       "5391          18.0                    0  Twitter for Android  1055696622   \n",
       "5392           1.0                    0  Twitter for Android  1055696622   \n",
       "5393         121.0                    0  Twitter for Android  1055696622   \n",
       "\n",
       "     UserScreenName  ... UserLocation HttpCount HashtagCount  MentionCount  \\\n",
       "5390    Giovannini8  ...            0         1            0             1   \n",
       "5391    Giovannini8  ...            0         1            0             1   \n",
       "5392    Giovannini8  ...            0         2            2             1   \n",
       "5393    Giovannini8  ...            0         0            0            11   \n",
       "\n",
       "      TweetCount  AvgHashtag AvgURLCount  AvgMention  AvgRetweet  AvgFavCount  \n",
       "5390      150737    0.833333    1.766667         3.6  138.733333          0.0  \n",
       "5391      150737    0.833333    1.766667         3.6  138.733333          0.0  \n",
       "5392      150737    0.833333    1.766667         3.6  138.733333          0.0  \n",
       "5393      150737    0.833333    1.766667         3.6  138.733333          0.0  \n",
       "\n",
       "[4 rows x 26 columns]"
      ]
     },
     "execution_count": 34,
     "metadata": {},
     "output_type": "execute_result"
    }
   ],
   "source": [
    "Total_spam_data.tail(4)"
   ]
  },
  {
   "cell_type": "markdown",
   "metadata": {},
   "source": [
    "# Selecting Repeted columns only and droping the repeted rows"
   ]
  },
  {
   "cell_type": "code",
   "execution_count": 35,
   "metadata": {},
   "outputs": [
    {
     "name": "stdout",
     "output_type": "stream",
     "text": [
      "<class 'pandas.core.frame.DataFrame'>\n",
      "Int64Index: 177 entries, 0 to 5364\n",
      "Data columns (total 13 columns):\n",
      " #   Column                 Non-Null Count  Dtype  \n",
      "---  ------                 --------------  -----  \n",
      " 0   UserID                 177 non-null    int64  \n",
      " 1   UserScreenName         177 non-null    object \n",
      " 2   UserCreatedAt          177 non-null    object \n",
      " 3   UserDescriptionLength  177 non-null    int64  \n",
      " 4   UserFollowersCount     177 non-null    int64  \n",
      " 5   UserFriendsCount       177 non-null    int64  \n",
      " 6   UserLocation           177 non-null    object \n",
      " 7   AvgHashtag             177 non-null    float64\n",
      " 8   AvgURLCount            177 non-null    float64\n",
      " 9   AvgMention             177 non-null    float64\n",
      " 10  AvgRetweet             177 non-null    float64\n",
      " 11  AvgFavCount            177 non-null    float64\n",
      " 12  TweetCount             177 non-null    int64  \n",
      "dtypes: float64(5), int64(5), object(3)\n",
      "memory usage: 19.4+ KB\n"
     ]
    }
   ],
   "source": [
    "unique_spam_row = Total_spam_data[[\"UserID\", \"UserScreenName\", \"UserCreatedAt\", \"UserDescriptionLength\",\"UserFollowersCount\", \"UserFriendsCount\", \"UserLocation\", \"AvgHashtag\", \"AvgURLCount\", \"AvgMention\", \"AvgRetweet\", \"AvgFavCount\", \"TweetCount\"]]\n",
    "spam_data = unique_spam_row.drop_duplicates()\n",
    "spam_data.info()"
   ]
  },
  {
   "cell_type": "markdown",
   "metadata": {},
   "source": [
    "# Saving the reduced Spammer data"
   ]
  },
  {
   "cell_type": "code",
   "execution_count": 36,
   "metadata": {},
   "outputs": [],
   "source": [
    "fre = spam_data[\"UserFriendsCount\"]\n",
    "fre.to_csv(\"C:/Users/asha/Desktop/Final Year Project Phase 2/Phase 2/Step2/userfriendscount1.csv\", sep=',',encoding='utf8')"
   ]
  },
  {
   "cell_type": "markdown",
   "metadata": {},
   "source": [
    "#   userfriendscount Datatype conversion from object to float"
   ]
  },
  {
   "cell_type": "code",
   "execution_count": 38,
   "metadata": {},
   "outputs": [
    {
     "name": "stdout",
     "output_type": "stream",
     "text": [
      "<class 'pandas.core.frame.DataFrame'>\n",
      "Int64Index: 177 entries, 0 to 5364\n",
      "Data columns (total 13 columns):\n",
      " #   Column                 Non-Null Count  Dtype  \n",
      "---  ------                 --------------  -----  \n",
      " 0   UserID                 177 non-null    int64  \n",
      " 1   UserScreenName         177 non-null    object \n",
      " 2   UserCreatedAt          177 non-null    object \n",
      " 3   UserDescriptionLength  177 non-null    int64  \n",
      " 4   UserFollowersCount     177 non-null    int64  \n",
      " 5   UserFriendsCount       177 non-null    float64\n",
      " 6   UserLocation           177 non-null    object \n",
      " 7   AvgHashtag             177 non-null    float64\n",
      " 8   AvgURLCount            177 non-null    float64\n",
      " 9   AvgMention             177 non-null    float64\n",
      " 10  AvgRetweet             177 non-null    float64\n",
      " 11  AvgFavCount            177 non-null    float64\n",
      " 12  TweetCount             177 non-null    int64  \n",
      "dtypes: float64(6), int64(4), object(3)\n",
      "memory usage: 19.4+ KB\n"
     ]
    }
   ],
   "source": [
    "spam_data[['UserFriendsCount']] = spam_data[['UserFriendsCount']].astype(float)\n",
    "spam_data.info()"
   ]
  },
  {
   "cell_type": "markdown",
   "metadata": {},
   "source": [
    "# Add a Column to Spammer Data that this is Spam =1"
   ]
  },
  {
   "cell_type": "code",
   "execution_count": 42,
   "metadata": {},
   "outputs": [
    {
     "name": "stderr",
     "output_type": "stream",
     "text": [
      "C:\\Users\\asha\\anaconda3\\lib\\site-packages\\pandas\\core\\indexing.py:966: SettingWithCopyWarning: \n",
      "A value is trying to be set on a copy of a slice from a DataFrame.\n",
      "Try using .loc[row_indexer,col_indexer] = value instead\n",
      "\n",
      "See the caveats in the documentation: https://pandas.pydata.org/pandas-docs/stable/user_guide/indexing.html#returning-a-view-versus-a-copy\n",
      "  self.obj[item] = s\n"
     ]
    },
    {
     "data": {
      "text/html": [
       "<div>\n",
       "<style scoped>\n",
       "    .dataframe tbody tr th:only-of-type {\n",
       "        vertical-align: middle;\n",
       "    }\n",
       "\n",
       "    .dataframe tbody tr th {\n",
       "        vertical-align: top;\n",
       "    }\n",
       "\n",
       "    .dataframe thead th {\n",
       "        text-align: right;\n",
       "    }\n",
       "</style>\n",
       "<table border=\"1\" class=\"dataframe\">\n",
       "  <thead>\n",
       "    <tr style=\"text-align: right;\">\n",
       "      <th></th>\n",
       "      <th>UserID</th>\n",
       "      <th>UserScreenName</th>\n",
       "      <th>UserCreatedAt</th>\n",
       "      <th>UserDescriptionLength</th>\n",
       "      <th>UserFollowersCount</th>\n",
       "      <th>UserFriendsCount</th>\n",
       "      <th>UserLocation</th>\n",
       "      <th>AvgHashtag</th>\n",
       "      <th>AvgURLCount</th>\n",
       "      <th>AvgMention</th>\n",
       "      <th>AvgRetweet</th>\n",
       "      <th>AvgFavCount</th>\n",
       "      <th>TweetCount</th>\n",
       "      <th>SpammerOrNot</th>\n",
       "    </tr>\n",
       "  </thead>\n",
       "  <tbody>\n",
       "    <tr>\n",
       "      <th>0</th>\n",
       "      <td>1119864633110794240</td>\n",
       "      <td>Murat41222943</td>\n",
       "      <td>2019-04-21 07:25:09</td>\n",
       "      <td>139</td>\n",
       "      <td>17</td>\n",
       "      <td>761.0</td>\n",
       "      <td>İstanbul Beylikdüzü</td>\n",
       "      <td>0.000000</td>\n",
       "      <td>0.966667</td>\n",
       "      <td>0.866667</td>\n",
       "      <td>0.000000</td>\n",
       "      <td>0.466667</td>\n",
       "      <td>207</td>\n",
       "      <td>1</td>\n",
       "    </tr>\n",
       "    <tr>\n",
       "      <th>30</th>\n",
       "      <td>1099556638401486849</td>\n",
       "      <td>Ar1_sa3</td>\n",
       "      <td>2019-02-24 06:28:26</td>\n",
       "      <td>7</td>\n",
       "      <td>96</td>\n",
       "      <td>111.0</td>\n",
       "      <td>0</td>\n",
       "      <td>0.466667</td>\n",
       "      <td>0.533333</td>\n",
       "      <td>0.000000</td>\n",
       "      <td>0.000000</td>\n",
       "      <td>1.200000</td>\n",
       "      <td>139</td>\n",
       "      <td>1</td>\n",
       "    </tr>\n",
       "    <tr>\n",
       "      <th>60</th>\n",
       "      <td>978987895301263360</td>\n",
       "      <td>Stew45641594</td>\n",
       "      <td>2018-03-28 13:31:17</td>\n",
       "      <td>0</td>\n",
       "      <td>61</td>\n",
       "      <td>671.0</td>\n",
       "      <td>Miami, FL/jamaica</td>\n",
       "      <td>1.100000</td>\n",
       "      <td>0.833333</td>\n",
       "      <td>1.133333</td>\n",
       "      <td>196.933333</td>\n",
       "      <td>0.000000</td>\n",
       "      <td>1090</td>\n",
       "      <td>1</td>\n",
       "    </tr>\n",
       "    <tr>\n",
       "      <th>90</th>\n",
       "      <td>1066182466669547520</td>\n",
       "      <td>fakesmilesonly</td>\n",
       "      <td>2018-11-24 04:11:23</td>\n",
       "      <td>47</td>\n",
       "      <td>15612</td>\n",
       "      <td>5799.0</td>\n",
       "      <td>0</td>\n",
       "      <td>0.000000</td>\n",
       "      <td>0.333333</td>\n",
       "      <td>0.300000</td>\n",
       "      <td>2376.200000</td>\n",
       "      <td>7666.333333</td>\n",
       "      <td>205</td>\n",
       "      <td>1</td>\n",
       "    </tr>\n",
       "    <tr>\n",
       "      <th>120</th>\n",
       "      <td>1049690686465949696</td>\n",
       "      <td>BhonestTo</td>\n",
       "      <td>2018-10-09 15:58:56</td>\n",
       "      <td>160</td>\n",
       "      <td>2380</td>\n",
       "      <td>3719.0</td>\n",
       "      <td>Canton Ohio</td>\n",
       "      <td>0.400000</td>\n",
       "      <td>0.533333</td>\n",
       "      <td>1.266667</td>\n",
       "      <td>985.433333</td>\n",
       "      <td>0.000000</td>\n",
       "      <td>5485</td>\n",
       "      <td>1</td>\n",
       "    </tr>\n",
       "  </tbody>\n",
       "</table>\n",
       "</div>"
      ],
      "text/plain": [
       "                  UserID  UserScreenName        UserCreatedAt  \\\n",
       "0    1119864633110794240   Murat41222943  2019-04-21 07:25:09   \n",
       "30   1099556638401486849         Ar1_sa3  2019-02-24 06:28:26   \n",
       "60    978987895301263360    Stew45641594  2018-03-28 13:31:17   \n",
       "90   1066182466669547520  fakesmilesonly  2018-11-24 04:11:23   \n",
       "120  1049690686465949696       BhonestTo  2018-10-09 15:58:56   \n",
       "\n",
       "     UserDescriptionLength  UserFollowersCount  UserFriendsCount  \\\n",
       "0                      139                  17             761.0   \n",
       "30                       7                  96             111.0   \n",
       "60                       0                  61             671.0   \n",
       "90                      47               15612            5799.0   \n",
       "120                    160                2380            3719.0   \n",
       "\n",
       "             UserLocation  AvgHashtag  AvgURLCount  AvgMention   AvgRetweet  \\\n",
       "0    İstanbul Beylikdüzü     0.000000     0.966667    0.866667     0.000000   \n",
       "30                      0    0.466667     0.533333    0.000000     0.000000   \n",
       "60     Miami, FL/jamaica     1.100000     0.833333    1.133333   196.933333   \n",
       "90                      0    0.000000     0.333333    0.300000  2376.200000   \n",
       "120           Canton Ohio    0.400000     0.533333    1.266667   985.433333   \n",
       "\n",
       "     AvgFavCount  TweetCount  SpammerOrNot  \n",
       "0       0.466667         207             1  \n",
       "30      1.200000         139             1  \n",
       "60      0.000000        1090             1  \n",
       "90   7666.333333         205             1  \n",
       "120     0.000000        5485             1  "
      ]
     },
     "execution_count": 42,
     "metadata": {},
     "output_type": "execute_result"
    }
   ],
   "source": [
    "spam_data.loc[:, \"SpammerOrNot\"]=1\n",
    "spam_data.head()"
   ]
  },
  {
   "cell_type": "markdown",
   "metadata": {},
   "source": [
    "# Describe both legitimate user and spammer user of Twitter count"
   ]
  },
  {
   "cell_type": "code",
   "execution_count": 43,
   "metadata": {},
   "outputs": [
    {
     "data": {
      "text/plain": [
       "count    1.770000e+02\n",
       "mean     2.532717e+04\n",
       "std      9.549593e+04\n",
       "min      1.000000e+00\n",
       "25%      6.410000e+02\n",
       "50%      4.744000e+03\n",
       "75%      1.185200e+04\n",
       "max      1.150378e+06\n",
       "Name: TweetCount, dtype: float64"
      ]
     },
     "execution_count": 43,
     "metadata": {},
     "output_type": "execute_result"
    }
   ],
   "source": [
    "spam_data[\"TweetCount\"].describe()"
   ]
  },
  {
   "cell_type": "code",
   "execution_count": 49,
   "metadata": {},
   "outputs": [
    {
     "data": {
      "text/plain": [
       "count       375.000000\n",
       "mean      41288.162667\n",
       "std       93281.144477\n",
       "min           1.000000\n",
       "25%         324.000000\n",
       "50%        3883.000000\n",
       "75%       20650.000000\n",
       "max      596778.000000\n",
       "Name: TweetCount, dtype: float64"
      ]
     },
     "execution_count": 49,
     "metadata": {},
     "output_type": "execute_result"
    }
   ],
   "source": [
    "leg_data[\"TweetCount\"].describe()"
   ]
  },
  {
   "cell_type": "markdown",
   "metadata": {},
   "source": [
    "# Merging the legitimate and spammer data"
   ]
  },
  {
   "cell_type": "code",
   "execution_count": 48,
   "metadata": {},
   "outputs": [
    {
     "name": "stdout",
     "output_type": "stream",
     "text": [
      "<class 'pandas.core.frame.DataFrame'>\n",
      "Int64Index: 552 entries, 0 to 5364\n",
      "Data columns (total 14 columns):\n",
      " #   Column                 Non-Null Count  Dtype  \n",
      "---  ------                 --------------  -----  \n",
      " 0   UserID                 552 non-null    int64  \n",
      " 1   UserScreenName         552 non-null    object \n",
      " 2   UserCreatedAt          552 non-null    object \n",
      " 3   UserDescriptionLength  552 non-null    int64  \n",
      " 4   UserFollowersCount     552 non-null    int64  \n",
      " 5   UserFriendsCount       552 non-null    float64\n",
      " 6   UserLocation           552 non-null    object \n",
      " 7   AvgHashtag             552 non-null    float64\n",
      " 8   AvgURLCount            552 non-null    float64\n",
      " 9   AvgMention             552 non-null    float64\n",
      " 10  AvgRetweet             552 non-null    float64\n",
      " 11  AvgFavCount            552 non-null    float64\n",
      " 12  TweetCount             552 non-null    int64  \n",
      " 13  SpammerOrNot           552 non-null    int64  \n",
      "dtypes: float64(6), int64(5), object(3)\n",
      "memory usage: 64.7+ KB\n"
     ]
    }
   ],
   "source": [
    "frames = [leg_data, spam_data]\n",
    "Total_data = pd.concat(frames, axis=0, sort=False)\n",
    "Total_data.info()"
   ]
  },
  {
   "cell_type": "code",
   "execution_count": 47,
   "metadata": {},
   "outputs": [],
   "source": [
    "Total_data.reset_index()\n",
    "Total_data.to_csv('Total_data.csv', sep=',', encoding='utf8')"
   ]
  }
 ],
 "metadata": {
  "kernelspec": {
   "display_name": "Python 3",
   "language": "python",
   "name": "python3"
  },
  "language_info": {
   "codemirror_mode": {
    "name": "ipython",
    "version": 3
   },
   "file_extension": ".py",
   "mimetype": "text/x-python",
   "name": "python",
   "nbconvert_exporter": "python",
   "pygments_lexer": "ipython3",
   "version": "3.8.3"
  }
 },
 "nbformat": 4,
 "nbformat_minor": 4
}
